{
 "cells": [
  {
   "cell_type": "markdown",
   "id": "f74d8707-0c22-4a3a-820a-19e8e2a88082",
   "metadata": {},
   "source": [
    "**Raad**"
   ]
  },
  {
   "cell_type": "markdown",
   "id": "b6440864-f51e-4e5c-baed-759462238f6a",
   "metadata": {},
   "source": [
    "__bold text__\n",
    "\n",
    "[link](https://www.google.jo/)"
   ]
  },
  {
   "cell_type": "code",
   "execution_count": 4,
   "id": "f0d58f27-0164-45ec-89b5-940cfc67a283",
   "metadata": {},
   "outputs": [],
   "source": [
    "x=5"
   ]
  },
  {
   "cell_type": "code",
   "execution_count": 5,
   "id": "34f13450-7aa5-4678-833e-2f1c0bdc69e2",
   "metadata": {},
   "outputs": [
    {
     "data": {
      "text/plain": [
       "5"
      ]
     },
     "execution_count": 5,
     "metadata": {},
     "output_type": "execute_result"
    }
   ],
   "source": [
    "x"
   ]
  },
  {
   "cell_type": "code",
   "execution_count": 6,
   "id": "fcbae5fa-8268-4980-ae35-aa85429efdc3",
   "metadata": {},
   "outputs": [
    {
     "name": "stdout",
     "output_type": "stream",
     "text": [
      "5\n"
     ]
    }
   ],
   "source": [
    "print(x)"
   ]
  },
  {
   "cell_type": "code",
   "execution_count": 9,
   "id": "86ff372f-5cb7-48fa-a325-5d0ce0dfe311",
   "metadata": {},
   "outputs": [
    {
     "name": "stdout",
     "output_type": "stream",
     "text": [
      "1\n",
      "2\n",
      "3\n",
      "4\n",
      "5\n"
     ]
    }
   ],
   "source": [
    "for i in [1,2,3,4]:\n",
    "    print(i)\n",
    "\n",
    "for i in [x]:\n",
    "    print(i)\n",
    "\n"
   ]
  },
  {
   "cell_type": "code",
   "execution_count": 10,
   "id": "227a2109-1573-4735-a1ea-e2bd46512986",
   "metadata": {},
   "outputs": [],
   "source": [
    "def say_hello(x):\n",
    "    print(\"hello \" + str(x))"
   ]
  },
  {
   "cell_type": "code",
   "execution_count": 11,
   "id": "cb1785d8-eeb4-4038-a724-c0c4c8aa92f9",
   "metadata": {},
   "outputs": [
    {
     "name": "stdout",
     "output_type": "stream",
     "text": [
      "hello David\n"
     ]
    }
   ],
   "source": [
    "say_hello(\"David\")"
   ]
  },
  {
   "cell_type": "code",
   "execution_count": 12,
   "id": "b7cdf922-db26-40bd-935d-c5279943be2c",
   "metadata": {},
   "outputs": [],
   "source": [
    "def return_hello(x):\n",
    "    y= \"hello \" + x\n",
    "    return y"
   ]
  },
  {
   "cell_type": "code",
   "execution_count": 13,
   "id": "e8082c80-bead-4e98-b67b-b4626ca51deb",
   "metadata": {},
   "outputs": [],
   "source": [
    "greetings = return_hello(\"David\")"
   ]
  },
  {
   "cell_type": "code",
   "execution_count": 14,
   "id": "3a697990-16ab-464d-8a09-944159b79999",
   "metadata": {},
   "outputs": [
    {
     "data": {
      "text/plain": [
       "'hello David'"
      ]
     },
     "execution_count": 14,
     "metadata": {},
     "output_type": "execute_result"
    }
   ],
   "source": [
    "greetings"
   ]
  },
  {
   "cell_type": "code",
   "execution_count": null,
   "id": "f319ed1f-e372-498c-8c39-66a6924593c2",
   "metadata": {},
   "outputs": [],
   "source": []
  }
 ],
 "metadata": {
  "kernelspec": {
   "display_name": "Python 3 (ipykernel)",
   "language": "python",
   "name": "python3"
  },
  "language_info": {
   "codemirror_mode": {
    "name": "ipython",
    "version": 3
   },
   "file_extension": ".py",
   "mimetype": "text/x-python",
   "name": "python",
   "nbconvert_exporter": "python",
   "pygments_lexer": "ipython3",
   "version": "3.12.1"
  }
 },
 "nbformat": 4,
 "nbformat_minor": 5
}
